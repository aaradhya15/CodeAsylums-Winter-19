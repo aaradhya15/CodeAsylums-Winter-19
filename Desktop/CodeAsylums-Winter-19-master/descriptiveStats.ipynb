{
 "cells": [
  {
   "cell_type": "code",
   "execution_count": 34,
   "metadata": {},
   "outputs": [
    {
     "name": "stdout",
     "output_type": "stream",
     "text": [
      "3.7586666666666693\n"
     ]
    }
   ],
   "source": [
    "def mean(str):\n",
    "    x = np.array(df[str])\n",
    "    sum=0\n",
    "    for i in x:\n",
    "        sum=sum+i\n",
    "    #print(sum)\n",
    "    mean = sum/x.shape[0]\n",
    "    return mean\n",
    "#print(mean('petal_length'))\n",
    "    "
   ]
  },
  {
   "cell_type": "code",
   "execution_count": 21,
   "metadata": {},
   "outputs": [
    {
     "name": "stdout",
     "output_type": "stream",
     "text": [
      "6.4\n"
     ]
    }
   ],
   "source": [
    "def median(str):\n",
    "    x=np.array(df[str])\n",
    "    np.sort(x)\n",
    "    idx=0\n",
    "    median=0\n",
    "    n=x.shape[0]\n",
    "    median = x[int((n-1)//2)]\n",
    "    return median\n",
    "#print(median('sepal_length'))\n",
    "        \n",
    "        "
   ]
  },
  {
   "cell_type": "code",
   "execution_count": 33,
   "metadata": {},
   "outputs": [
    {
     "name": "stdout",
     "output_type": "stream",
     "text": [
      "1.3\n"
     ]
    }
   ],
   "source": [
    "def q1(str):\n",
    "    x=np.array(df[str])\n",
    "    np.sort(x)\n",
    "\n",
    "    idx = 0\n",
    "    q1=0\n",
    "    n=x.shape[0]\n",
    "    n1=(n-1)//4\n",
    "    median = x[n1]\n",
    "    return median\n",
    "print(q1('petal_length'))\n",
    "        "
   ]
  },
  {
   "cell_type": "code",
   "execution_count": 32,
   "metadata": {},
   "outputs": [
    {
     "name": "stdout",
     "output_type": "stream",
     "text": [
      "5.1\n"
     ]
    }
   ],
   "source": [
    "def q3(str):\n",
    "    x=np.array(df[str])\n",
    "    np.sort(x)\n",
    "\n",
    "    idx = 0\n",
    "    q3=0\n",
    "    n=x.shape[0]\n",
    "    n1=3*(n-1)//4-1\n",
    "    median = x[n1]\n",
    "    return median\n",
    "print(q3('petal_length'))"
   ]
  },
  {
   "cell_type": "code",
   "execution_count": 40,
   "metadata": {},
   "outputs": [
    {
     "name": "stdout",
     "output_type": "stream",
     "text": [
      "150\n",
      "1.7585291834055201\n"
     ]
    }
   ],
   "source": [
    "import math\n",
    "def sd(str):\n",
    "    x=np.array(df[str])\n",
    "    mea = mean(str)\n",
    "    n=x.shape[0]\n",
    "    #print(n)\n",
    "\n",
    "    sum = 0\n",
    "    for i in x:\n",
    "        sum = (mea-i)*(mea-i)+sum\n",
    "    var = sum/n\n",
    "    sd = math.sqrt(var)\n",
    "    return sd\n",
    "#print(sd('petal_length'))\n",
    "    \n",
    "        "
   ]
  },
  {
   "cell_type": "code",
   "execution_count": 43,
   "metadata": {},
   "outputs": [
    {
     "name": "stdout",
     "output_type": "stream",
     "text": [
      "3.0924248888888854\n"
     ]
    }
   ],
   "source": [
    "import math\n",
    "def var(str):\n",
    "    x=np.array(df[str])\n",
    "    mea = mean(str)\n",
    "    n=x.shape[0]\n",
    "    #print(n)\n",
    "\n",
    "    sum = 0\n",
    "    for i in x:\n",
    "        sum = (mea-i)*(mea-i)+sum\n",
    "    var = sum/n\n",
    "    return var\n",
    "#print(var('petal_length'))"
   ]
  },
  {
   "cell_type": "code",
   "execution_count": 44,
   "metadata": {},
   "outputs": [
    {
     "name": "stdout",
     "output_type": "stream",
     "text": [
      "150\n",
      "-0.9234990327854538\n"
     ]
    }
   ],
   "source": [
    "def skewness(str):\n",
    "    x=np.array(df[str])\n",
    "    skewness = 3*(mean(str)-median(str))/sd(str)\n",
    "    return skewness\n",
    "#print(skewness('petal_length'))\n",
    "    "
   ]
  },
  {
   "cell_type": "code",
   "execution_count": null,
   "metadata": {},
   "outputs": [],
   "source": []
  }
 ],
 "metadata": {
  "kernelspec": {
   "display_name": "Python 3",
   "language": "python",
   "name": "python3"
  },
  "language_info": {
   "codemirror_mode": {
    "name": "ipython",
    "version": 3
   },
   "file_extension": ".py",
   "mimetype": "text/x-python",
   "name": "python",
   "nbconvert_exporter": "python",
   "pygments_lexer": "ipython3",
   "version": "3.6.9"
  }
 },
 "nbformat": 4,
 "nbformat_minor": 2
}
